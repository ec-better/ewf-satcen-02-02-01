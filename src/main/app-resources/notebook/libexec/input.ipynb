{
 "cells": [
  {
   "cell_type": "markdown",
   "metadata": {},
   "source": [
    "### <a name=\"service\">Service definition"
   ]
  },
  {
   "cell_type": "code",
   "execution_count": 26,
   "metadata": {
    "collapsed": true
   },
   "outputs": [],
   "source": [
    "service = dict([('title', 'SATCEN-02-02-01 - Detection of potential illegal mining activities'),\n",
    "                ('abstract', 'SATCEN-02-02-01 - Detection of potential illegal mining activities'),\n",
    "                ('id', 'ewf-satcen-02-02-01')])"
   ]
  },
  {
   "cell_type": "markdown",
   "metadata": {},
   "source": [
    "### Service parameters"
   ]
  },
  {
   "cell_type": "code",
   "execution_count": 27,
   "metadata": {},
   "outputs": [],
   "source": [
    "aoi = dict([('id', 'aoi'),\n",
    "            ('title', 'Area of interest (bbox)'),\n",
    "            ('abstract', 'Area of interest defined as a bounding box'),\n",
    "            ('value', '-70.5659,-13.0922,-69.1411,-12.4567')])"
   ]
  },
  {
   "cell_type": "markdown",
   "metadata": {},
   "source": [
    "### <a name=\"runtime\">Runtime parameter definition"
   ]
  },
  {
   "cell_type": "markdown",
   "metadata": {},
   "source": [
    "**Input identifiers**\n",
    "\n",
    "This is the Sentinel-1 stack of products' identifiers"
   ]
  },
  {
   "cell_type": "code",
   "execution_count": 28,
   "metadata": {
    "collapsed": true
   },
   "outputs": [],
   "source": [
    "input_identifiers = ( 'S2B_MSIL2A_20190308T144729_N0211_R139_T19LDG_20190308T185300',\n",
    "       'S2B_MSIL2A_20190308T144729_N0211_R139_T19LDF_20190308T185300', 'S2B_MSIL2A_20190206T144729_N0211_R139_T19LCF_20190206T185013',\n",
    "                    'S2B_MSIL2A_20190206T144729_N0211_R139_T19LDF_20190206T185013') "
   ]
  },
  {
   "cell_type": "markdown",
   "metadata": {},
   "source": [
    "**Input references**\n",
    "\n",
    "This is the Sentinel-1 stack catalogue references"
   ]
  },
  {
   "cell_type": "code",
   "execution_count": 29,
   "metadata": {
    "collapsed": false,
    "slideshow": {
     "slide_type": "subslide"
    }
   },
   "outputs": [],
   "source": [
    "input_references = ( 'https://catalog.terradue.com/sentinel2/search?format=atom&uid=S2B_MSIL2A_20190308T144729_N0211_R139_T19LDG_20190308T185300',\n",
    "       'https://catalog.terradue.com/sentinel2/search?format=atom&uid=S2B_MSIL2A_20190308T144729_N0211_R139_T19LDF_20190308T185300',\n",
    "                   'https://catalog.terradue.com/sentinel2/search?format=atom&uid=S2B_MSIL2A_20190206T144729_N0211_R139_T19LCF_20190206T185013',\n",
    "                   'https://catalog.terradue.com/sentinel2/search?format=atom&uid=S2B_MSIL2A_20190206T144729_N0211_R139_T19LDF_20190206T185013') "
   ]
  },
  {
   "cell_type": "markdown",
   "metadata": {
    "slideshow": {
     "slide_type": "slide"
    }
   },
   "source": [
    "**Data path**\n",
    "\n",
    "This path defines where the data is staged-in. "
   ]
  },
  {
   "cell_type": "code",
   "execution_count": 30,
   "metadata": {
    "collapsed": true
   },
   "outputs": [],
   "source": [
    "data_path = \"/workspace/data2\""
   ]
  },
  {
   "cell_type": "markdown",
   "metadata": {},
   "source": [
    "### <a name=\"workflow\">Workflow"
   ]
  },
  {
   "cell_type": "code",
   "execution_count": 31,
   "metadata": {},
   "outputs": [],
   "source": [
    "from shapely.geometry import box\n",
    "import numpy as np\n",
    "import cioppy\n",
    "import geopandas as gpd\n",
    "from shapely.wkt import loads\n",
    "import pandas as pd\n",
    "import math\n",
    "import os\n",
    "import datetime\n",
    "import lxml.etree as etree\n",
    "import ogr\n",
    "from xml.etree import ElementTree\n",
    "from functools import partial\n",
    "import pyproj\n",
    "from shapely.ops import transform\n",
    "import gdal\n",
    "import osr\n",
    "import sys\n",
    "sys.path.append('/application/notebook/libexec/') \n",
    "sys.path.append(os.getcwd())\n",
    "\n",
    "sys.path.append('/opt/OTB/lib/python')\n",
    "sys.path.append('/opt/OTB/lib/libfftw3.so.3')\n",
    "os.environ['OTB_APPLICATION_PATH'] = '/opt/OTB/lib/otb/applications'\n",
    "os.environ['LD_LIBRARY_PATH'] = '/opt/OTB/lib'\n",
    "os.environ['ITK_AUTOLOAD_PATH'] = '/opt/OTB/lib/otb/applications'\n",
    "\n",
    "import otbApplication"
   ]
  },
  {
   "cell_type": "code",
   "execution_count": 32,
   "metadata": {},
   "outputs": [],
   "source": [
    "ciop = cioppy.Cioppy()"
   ]
  },
  {
   "cell_type": "code",
   "execution_count": 33,
   "metadata": {},
   "outputs": [],
   "source": [
    "temp_searches = []\n",
    "\n",
    "for index, reference in enumerate(input_references):\n",
    "    \n",
    "    search_temp = gpd.GeoDataFrame(ciop.search(end_point=reference,\n",
    "                                          params=[],\n",
    "                                           output_fields='self,track,enclosure,identifier,wkt,startdate,enddate,platform,cc', \n",
    "                                           model='EOP'))\n",
    "    \n",
    "    \n",
    "    search_temp['local_path'] = os.path.join(data_path, input_identifiers[index])\n",
    "    \n",
    "    temp_searches.append(search_temp)\n",
    "    \n",
    "search = gpd.GeoDataFrame( pd.concat(temp_searches, ignore_index=True)) \n",
    "\n",
    "search['geometry'] = search['wkt'].apply(loads)\n",
    "search['cc'] = pd.to_numeric(search['cc'])\n",
    "search['startdate'] = pd.to_datetime(search['startdate'])\n",
    "search['enddate'] = pd.to_datetime(search['enddate'])\n",
    "    \n",
    "    "
   ]
  },
  {
   "cell_type": "code",
   "execution_count": 34,
   "metadata": {},
   "outputs": [
    {
     "data": {
      "text/html": [
       "<div>\n",
       "<style scoped>\n",
       "    .dataframe tbody tr th:only-of-type {\n",
       "        vertical-align: middle;\n",
       "    }\n",
       "\n",
       "    .dataframe tbody tr th {\n",
       "        vertical-align: top;\n",
       "    }\n",
       "\n",
       "    .dataframe thead th {\n",
       "        text-align: right;\n",
       "    }\n",
       "</style>\n",
       "<table border=\"1\" class=\"dataframe\">\n",
       "  <thead>\n",
       "    <tr style=\"text-align: right;\">\n",
       "      <th></th>\n",
       "      <th>cc</th>\n",
       "      <th>enclosure</th>\n",
       "      <th>enddate</th>\n",
       "      <th>identifier</th>\n",
       "      <th>platform</th>\n",
       "      <th>self</th>\n",
       "      <th>startdate</th>\n",
       "      <th>track</th>\n",
       "      <th>wkt</th>\n",
       "      <th>local_path</th>\n",
       "      <th>geometry</th>\n",
       "    </tr>\n",
       "  </thead>\n",
       "  <tbody>\n",
       "    <tr>\n",
       "      <th>0</th>\n",
       "      <td>5.084996</td>\n",
       "      <td>https://store.terradue.com/download/sentinel2/...</td>\n",
       "      <td>2019-03-08 14:47:29.024</td>\n",
       "      <td>S2B_MSIL2A_20190308T144729_N0211_R139_T19LDG_2...</td>\n",
       "      <td>S2B</td>\n",
       "      <td>https://catalog.terradue.com/sentinel2/search?...</td>\n",
       "      <td>2019-03-08 14:47:29.024</td>\n",
       "      <td>139</td>\n",
       "      <td>POLYGON((-68.910095 -12.7524314685901,-68.9104...</td>\n",
       "      <td>/workspace/data2/S2B_MSIL2A_20190308T144729_N0...</td>\n",
       "      <td>POLYGON ((-68.910095 -12.7524314685901, -68.91...</td>\n",
       "    </tr>\n",
       "    <tr>\n",
       "      <th>1</th>\n",
       "      <td>45.163561</td>\n",
       "      <td>https://store.terradue.com/download/sentinel2/...</td>\n",
       "      <td>2019-03-08 14:47:29.024</td>\n",
       "      <td>S2B_MSIL2A_20190308T144729_N0211_R139_T19LDF_2...</td>\n",
       "      <td>S2B</td>\n",
       "      <td>https://catalog.terradue.com/sentinel2/search?...</td>\n",
       "      <td>2019-03-08 14:47:29.024</td>\n",
       "      <td>139</td>\n",
       "      <td>POLYGON((-68.90976 -13.656868384074,-68.910126...</td>\n",
       "      <td>/workspace/data2/S2B_MSIL2A_20190308T144729_N0...</td>\n",
       "      <td>POLYGON ((-68.90976000000001 -13.656868384074,...</td>\n",
       "    </tr>\n",
       "    <tr>\n",
       "      <th>2</th>\n",
       "      <td>48.573114</td>\n",
       "      <td>https://store.terradue.com/download/sentinel2/...</td>\n",
       "      <td>2019-02-06 14:47:29.024</td>\n",
       "      <td>S2B_MSIL2A_20190206T144729_N0211_R139_T19LCF_2...</td>\n",
       "      <td>S2B</td>\n",
       "      <td>https://catalog.terradue.com/sentinel2/search?...</td>\n",
       "      <td>2019-02-06 14:47:29.024</td>\n",
       "      <td>139</td>\n",
       "      <td>POLYGON((-70.12924 -13.6538874254132,-70.11722...</td>\n",
       "      <td>/workspace/data2/S2B_MSIL2A_20190206T144729_N0...</td>\n",
       "      <td>POLYGON ((-70.12924 -13.6538874254132, -70.117...</td>\n",
       "    </tr>\n",
       "    <tr>\n",
       "      <th>3</th>\n",
       "      <td>31.852275</td>\n",
       "      <td>https://store.terradue.com/download/sentinel2/...</td>\n",
       "      <td>2019-02-06 14:47:29.024</td>\n",
       "      <td>S2B_MSIL2A_20190206T144729_N0211_R139_T19LDF_2...</td>\n",
       "      <td>S2B</td>\n",
       "      <td>https://catalog.terradue.com/sentinel2/search?...</td>\n",
       "      <td>2019-02-06 14:47:29.024</td>\n",
       "      <td>139</td>\n",
       "      <td>POLYGON((-69.9216 -12.7519041760794,-69.91202 ...</td>\n",
       "      <td>/workspace/data2/S2B_MSIL2A_20190206T144729_N0...</td>\n",
       "      <td>POLYGON ((-69.9216 -12.7519041760794, -69.9120...</td>\n",
       "    </tr>\n",
       "  </tbody>\n",
       "</table>\n",
       "</div>"
      ],
      "text/plain": [
       "          cc                                          enclosure  \\\n",
       "0   5.084996  https://store.terradue.com/download/sentinel2/...   \n",
       "1  45.163561  https://store.terradue.com/download/sentinel2/...   \n",
       "2  48.573114  https://store.terradue.com/download/sentinel2/...   \n",
       "3  31.852275  https://store.terradue.com/download/sentinel2/...   \n",
       "\n",
       "                  enddate                                         identifier  \\\n",
       "0 2019-03-08 14:47:29.024  S2B_MSIL2A_20190308T144729_N0211_R139_T19LDG_2...   \n",
       "1 2019-03-08 14:47:29.024  S2B_MSIL2A_20190308T144729_N0211_R139_T19LDF_2...   \n",
       "2 2019-02-06 14:47:29.024  S2B_MSIL2A_20190206T144729_N0211_R139_T19LCF_2...   \n",
       "3 2019-02-06 14:47:29.024  S2B_MSIL2A_20190206T144729_N0211_R139_T19LDF_2...   \n",
       "\n",
       "  platform                                               self  \\\n",
       "0      S2B  https://catalog.terradue.com/sentinel2/search?...   \n",
       "1      S2B  https://catalog.terradue.com/sentinel2/search?...   \n",
       "2      S2B  https://catalog.terradue.com/sentinel2/search?...   \n",
       "3      S2B  https://catalog.terradue.com/sentinel2/search?...   \n",
       "\n",
       "                startdate track  \\\n",
       "0 2019-03-08 14:47:29.024   139   \n",
       "1 2019-03-08 14:47:29.024   139   \n",
       "2 2019-02-06 14:47:29.024   139   \n",
       "3 2019-02-06 14:47:29.024   139   \n",
       "\n",
       "                                                 wkt  \\\n",
       "0  POLYGON((-68.910095 -12.7524314685901,-68.9104...   \n",
       "1  POLYGON((-68.90976 -13.656868384074,-68.910126...   \n",
       "2  POLYGON((-70.12924 -13.6538874254132,-70.11722...   \n",
       "3  POLYGON((-69.9216 -12.7519041760794,-69.91202 ...   \n",
       "\n",
       "                                          local_path  \\\n",
       "0  /workspace/data2/S2B_MSIL2A_20190308T144729_N0...   \n",
       "1  /workspace/data2/S2B_MSIL2A_20190308T144729_N0...   \n",
       "2  /workspace/data2/S2B_MSIL2A_20190206T144729_N0...   \n",
       "3  /workspace/data2/S2B_MSIL2A_20190206T144729_N0...   \n",
       "\n",
       "                                            geometry  \n",
       "0  POLYGON ((-68.910095 -12.7524314685901, -68.91...  \n",
       "1  POLYGON ((-68.90976000000001 -13.656868384074,...  \n",
       "2  POLYGON ((-70.12924 -13.6538874254132, -70.117...  \n",
       "3  POLYGON ((-69.9216 -12.7519041760794, -69.9120...  "
      ]
     },
     "execution_count": 34,
     "metadata": {},
     "output_type": "execute_result"
    }
   ],
   "source": [
    "search"
   ]
  },
  {
   "cell_type": "code",
   "execution_count": 35,
   "metadata": {},
   "outputs": [],
   "source": [
    "def analyse(row):\n",
    "    \n",
    "    series = dict()\n",
    "   \n",
    "    series['utm_zone'] = row['identifier'][39:41]\n",
    "    series['latitude_band'] = row['identifier'][41]\n",
    "    series['grid_square']  = row['identifier'][42:44]\n",
    "\n",
    "    \n",
    "    return pd.Series(series)"
   ]
  },
  {
   "cell_type": "code",
   "execution_count": 36,
   "metadata": {},
   "outputs": [],
   "source": [
    "search = search.merge(search.apply(lambda row: analyse(row ), axis=1),\n",
    "                                    left_index=True,\n",
    "                                  right_index=True)"
   ]
  },
  {
   "cell_type": "code",
   "execution_count": 37,
   "metadata": {},
   "outputs": [
    {
     "data": {
      "text/html": [
       "<div>\n",
       "<style scoped>\n",
       "    .dataframe tbody tr th:only-of-type {\n",
       "        vertical-align: middle;\n",
       "    }\n",
       "\n",
       "    .dataframe tbody tr th {\n",
       "        vertical-align: top;\n",
       "    }\n",
       "\n",
       "    .dataframe thead th {\n",
       "        text-align: right;\n",
       "    }\n",
       "</style>\n",
       "<table border=\"1\" class=\"dataframe\">\n",
       "  <thead>\n",
       "    <tr style=\"text-align: right;\">\n",
       "      <th></th>\n",
       "      <th>cc</th>\n",
       "      <th>enclosure</th>\n",
       "      <th>enddate</th>\n",
       "      <th>identifier</th>\n",
       "      <th>platform</th>\n",
       "      <th>self</th>\n",
       "      <th>startdate</th>\n",
       "      <th>track</th>\n",
       "      <th>wkt</th>\n",
       "      <th>local_path</th>\n",
       "      <th>geometry</th>\n",
       "      <th>grid_square</th>\n",
       "      <th>latitude_band</th>\n",
       "      <th>utm_zone</th>\n",
       "    </tr>\n",
       "  </thead>\n",
       "  <tbody>\n",
       "    <tr>\n",
       "      <th>0</th>\n",
       "      <td>5.084996</td>\n",
       "      <td>https://store.terradue.com/download/sentinel2/...</td>\n",
       "      <td>2019-03-08 14:47:29.024</td>\n",
       "      <td>S2B_MSIL2A_20190308T144729_N0211_R139_T19LDG_2...</td>\n",
       "      <td>S2B</td>\n",
       "      <td>https://catalog.terradue.com/sentinel2/search?...</td>\n",
       "      <td>2019-03-08 14:47:29.024</td>\n",
       "      <td>139</td>\n",
       "      <td>POLYGON((-68.910095 -12.7524314685901,-68.9104...</td>\n",
       "      <td>/workspace/data2/S2B_MSIL2A_20190308T144729_N0...</td>\n",
       "      <td>POLYGON ((-68.910095 -12.7524314685901, -68.91...</td>\n",
       "      <td>DG</td>\n",
       "      <td>L</td>\n",
       "      <td>19</td>\n",
       "    </tr>\n",
       "    <tr>\n",
       "      <th>1</th>\n",
       "      <td>45.163561</td>\n",
       "      <td>https://store.terradue.com/download/sentinel2/...</td>\n",
       "      <td>2019-03-08 14:47:29.024</td>\n",
       "      <td>S2B_MSIL2A_20190308T144729_N0211_R139_T19LDF_2...</td>\n",
       "      <td>S2B</td>\n",
       "      <td>https://catalog.terradue.com/sentinel2/search?...</td>\n",
       "      <td>2019-03-08 14:47:29.024</td>\n",
       "      <td>139</td>\n",
       "      <td>POLYGON((-68.90976 -13.656868384074,-68.910126...</td>\n",
       "      <td>/workspace/data2/S2B_MSIL2A_20190308T144729_N0...</td>\n",
       "      <td>POLYGON ((-68.90976000000001 -13.656868384074,...</td>\n",
       "      <td>DF</td>\n",
       "      <td>L</td>\n",
       "      <td>19</td>\n",
       "    </tr>\n",
       "    <tr>\n",
       "      <th>2</th>\n",
       "      <td>48.573114</td>\n",
       "      <td>https://store.terradue.com/download/sentinel2/...</td>\n",
       "      <td>2019-02-06 14:47:29.024</td>\n",
       "      <td>S2B_MSIL2A_20190206T144729_N0211_R139_T19LCF_2...</td>\n",
       "      <td>S2B</td>\n",
       "      <td>https://catalog.terradue.com/sentinel2/search?...</td>\n",
       "      <td>2019-02-06 14:47:29.024</td>\n",
       "      <td>139</td>\n",
       "      <td>POLYGON((-70.12924 -13.6538874254132,-70.11722...</td>\n",
       "      <td>/workspace/data2/S2B_MSIL2A_20190206T144729_N0...</td>\n",
       "      <td>POLYGON ((-70.12924 -13.6538874254132, -70.117...</td>\n",
       "      <td>CF</td>\n",
       "      <td>L</td>\n",
       "      <td>19</td>\n",
       "    </tr>\n",
       "    <tr>\n",
       "      <th>3</th>\n",
       "      <td>31.852275</td>\n",
       "      <td>https://store.terradue.com/download/sentinel2/...</td>\n",
       "      <td>2019-02-06 14:47:29.024</td>\n",
       "      <td>S2B_MSIL2A_20190206T144729_N0211_R139_T19LDF_2...</td>\n",
       "      <td>S2B</td>\n",
       "      <td>https://catalog.terradue.com/sentinel2/search?...</td>\n",
       "      <td>2019-02-06 14:47:29.024</td>\n",
       "      <td>139</td>\n",
       "      <td>POLYGON((-69.9216 -12.7519041760794,-69.91202 ...</td>\n",
       "      <td>/workspace/data2/S2B_MSIL2A_20190206T144729_N0...</td>\n",
       "      <td>POLYGON ((-69.9216 -12.7519041760794, -69.9120...</td>\n",
       "      <td>DF</td>\n",
       "      <td>L</td>\n",
       "      <td>19</td>\n",
       "    </tr>\n",
       "  </tbody>\n",
       "</table>\n",
       "</div>"
      ],
      "text/plain": [
       "          cc                                          enclosure  \\\n",
       "0   5.084996  https://store.terradue.com/download/sentinel2/...   \n",
       "1  45.163561  https://store.terradue.com/download/sentinel2/...   \n",
       "2  48.573114  https://store.terradue.com/download/sentinel2/...   \n",
       "3  31.852275  https://store.terradue.com/download/sentinel2/...   \n",
       "\n",
       "                  enddate                                         identifier  \\\n",
       "0 2019-03-08 14:47:29.024  S2B_MSIL2A_20190308T144729_N0211_R139_T19LDG_2...   \n",
       "1 2019-03-08 14:47:29.024  S2B_MSIL2A_20190308T144729_N0211_R139_T19LDF_2...   \n",
       "2 2019-02-06 14:47:29.024  S2B_MSIL2A_20190206T144729_N0211_R139_T19LCF_2...   \n",
       "3 2019-02-06 14:47:29.024  S2B_MSIL2A_20190206T144729_N0211_R139_T19LDF_2...   \n",
       "\n",
       "  platform                                               self  \\\n",
       "0      S2B  https://catalog.terradue.com/sentinel2/search?...   \n",
       "1      S2B  https://catalog.terradue.com/sentinel2/search?...   \n",
       "2      S2B  https://catalog.terradue.com/sentinel2/search?...   \n",
       "3      S2B  https://catalog.terradue.com/sentinel2/search?...   \n",
       "\n",
       "                startdate track  \\\n",
       "0 2019-03-08 14:47:29.024   139   \n",
       "1 2019-03-08 14:47:29.024   139   \n",
       "2 2019-02-06 14:47:29.024   139   \n",
       "3 2019-02-06 14:47:29.024   139   \n",
       "\n",
       "                                                 wkt  \\\n",
       "0  POLYGON((-68.910095 -12.7524314685901,-68.9104...   \n",
       "1  POLYGON((-68.90976 -13.656868384074,-68.910126...   \n",
       "2  POLYGON((-70.12924 -13.6538874254132,-70.11722...   \n",
       "3  POLYGON((-69.9216 -12.7519041760794,-69.91202 ...   \n",
       "\n",
       "                                          local_path  \\\n",
       "0  /workspace/data2/S2B_MSIL2A_20190308T144729_N0...   \n",
       "1  /workspace/data2/S2B_MSIL2A_20190308T144729_N0...   \n",
       "2  /workspace/data2/S2B_MSIL2A_20190206T144729_N0...   \n",
       "3  /workspace/data2/S2B_MSIL2A_20190206T144729_N0...   \n",
       "\n",
       "                                            geometry grid_square  \\\n",
       "0  POLYGON ((-68.910095 -12.7524314685901, -68.91...          DG   \n",
       "1  POLYGON ((-68.90976000000001 -13.656868384074,...          DF   \n",
       "2  POLYGON ((-70.12924 -13.6538874254132, -70.117...          CF   \n",
       "3  POLYGON ((-69.9216 -12.7519041760794, -69.9120...          DF   \n",
       "\n",
       "  latitude_band utm_zone  \n",
       "0             L       19  \n",
       "1             L       19  \n",
       "2             L       19  \n",
       "3             L       19  "
      ]
     },
     "execution_count": 37,
     "metadata": {},
     "output_type": "execute_result"
    }
   ],
   "source": [
    "search"
   ]
  },
  {
   "cell_type": "code",
   "execution_count": 38,
   "metadata": {},
   "outputs": [],
   "source": [
    "\n",
    "\n",
    "aoi_wkt = box(*[float(i) for i in aoi['value'].split(',')]).wkt\n",
    "\n",
    "min_lon, min_lat,  max_lon, max_lat = [float(i) for i in aoi['value'].split(',')]\n"
   ]
  },
  {
   "cell_type": "code",
   "execution_count": null,
   "metadata": {},
   "outputs": [],
   "source": []
  },
  {
   "cell_type": "code",
   "execution_count": 39,
   "metadata": {},
   "outputs": [],
   "source": [
    "def get_band_path(row, band):\n",
    "    \n",
    "    ns = {'xfdu': 'urn:ccsds:schema:xfdu:1',\n",
    "          'safe': 'http://www.esa.int/safe/sentinel/1.1',\n",
    "          'gml': 'http://www.opengis.net/gml'}\n",
    "    \n",
    "    path_manifest = os.path.join(row['local_path'],\n",
    "                                 row['identifier'] + '.SAFE', \n",
    "                                'manifest.safe')\n",
    "    \n",
    "    root = etree.parse(path_manifest)\n",
    "    \n",
    "    bands = [band]\n",
    "\n",
    "    for index, band in enumerate(bands):\n",
    "\n",
    "        sub_path = os.path.join(row['local_path'],\n",
    "                                row['identifier'] + '.SAFE',\n",
    "                                root.xpath('//dataObjectSection/dataObject/byteStream/fileLocation[contains(@href,(\"%s%s\")) and contains(@href,(\"%s\")) ]' % (row['latitude_band'],\n",
    "                                row['grid_square'], \n",
    "                                band), \n",
    "                                  namespaces=ns)[0].attrib['href'][2:])\n",
    "    \n",
    "    return sub_path"
   ]
  },
  {
   "cell_type": "code",
   "execution_count": 40,
   "metadata": {},
   "outputs": [],
   "source": [
    "bands = ['B02', 'B04', 'B11', 'B12']"
   ]
  },
  {
   "cell_type": "code",
   "execution_count": 41,
   "metadata": {},
   "outputs": [],
   "source": [
    "for index, band in enumerate(bands):\n",
    "    \n",
    "    vrt_bands = []\n",
    "    \n",
    "    for j, row in search.iterrows():\n",
    "        \n",
    "        vrt_bands.append(get_band_path(row, band))\n",
    "    \n",
    "    \n",
    "    ds = gdal.BuildVRT('{0}.vrt'.format(band),\n",
    "                       vrt_bands,\n",
    "                       srcNodata=0,\n",
    "                       xRes=10, \n",
    "                       yRes=10)\n",
    "    ds.FlushCache()\n",
    "    \n",
    "    \n",
    "    gdal.Translate(band + '.tif', \n",
    "                   ds, \n",
    "                   outputType=gdal.GDT_Float32, \n",
    "                   projWin=[min_lon, max_lat, max_lon, min_lat],\n",
    "                   projWinSRS='EPSG:4326')"
   ]
  },
  {
   "cell_type": "code",
   "execution_count": 42,
   "metadata": {},
   "outputs": [],
   "source": [
    "band_expressions = ['im4b1 !=0 ? im3b1 / im4b1 : 0', \n",
    "                    'im1b1 !=0 ? im2b1 / im1b1 : 0', \n",
    "                    'im3b1 !=0 ? im2b1 / im3b1 : 0']"
   ]
  },
  {
   "cell_type": "code",
   "execution_count": 43,
   "metadata": {},
   "outputs": [
    {
     "data": {
      "text/plain": [
       "0"
      ]
     },
     "execution_count": 43,
     "metadata": {},
     "output_type": "execute_result"
    }
   ],
   "source": [
    "BandMathX = otbApplication.Registry.CreateApplication(\"BandMathX\")\n",
    "\n",
    "BandMathX.SetParameterStringList('il', [b + '.tif' for b in bands])\n",
    "\n",
    "BandMathX.SetParameterString('out', 'temp.tif')\n",
    "\n",
    "BandMathX.SetParameterString('exp', ';'.join(band_expressions))\n",
    "\n",
    "BandMathX.ExecuteAndWriteOutput()"
   ]
  },
  {
   "cell_type": "code",
   "execution_count": 46,
   "metadata": {},
   "outputs": [],
   "source": [
    "\n",
    "\n",
    "output_startdate = min(search['startdate'])\n",
    "output_stopdate = max(search['enddate'])"
   ]
  },
  {
   "cell_type": "code",
   "execution_count": 48,
   "metadata": {},
   "outputs": [
    {
     "data": {
      "text/plain": [
       "Timestamp('2019-03-08 14:47:29.024000')"
      ]
     },
     "execution_count": 48,
     "metadata": {},
     "output_type": "execute_result"
    }
   ],
   "source": [
    "output_stopdate"
   ]
  },
  {
   "cell_type": "code",
   "execution_count": 49,
   "metadata": {},
   "outputs": [],
   "source": [
    "date_format = '%Y%m%dT%H%m%S'\n",
    "\n",
    "output_name = 'MINERAL-COMPOSITE-{0}-{1}'.format(output_startdate.strftime(date_format), \n",
    "                                                 output_stopdate.strftime(date_format))"
   ]
  },
  {
   "cell_type": "code",
   "execution_count": 50,
   "metadata": {},
   "outputs": [
    {
     "data": {
      "text/plain": [
       "0"
      ]
     },
     "execution_count": 50,
     "metadata": {},
     "output_type": "execute_result"
    }
   ],
   "source": [
    "Convert = otbApplication.Registry.CreateApplication(\"Convert\")\n",
    "\n",
    "\n",
    "Convert.SetParameterString(\"in\", 'temp.tif')\n",
    "\n",
    "Convert.SetParameterString(\"out\", output_name)\n",
    "\n",
    "Convert.SetParameterString(\"type\",\"linear\")\n",
    "\n",
    "Convert.SetParameterString(\"channels\",\"rgb\")\n",
    "\n",
    "Convert.ExecuteAndWriteOutput()"
   ]
  },
  {
   "cell_type": "markdown",
   "metadata": {},
   "source": [
    "### Clean-up"
   ]
  },
  {
   "cell_type": "code",
   "execution_count": 51,
   "metadata": {},
   "outputs": [],
   "source": [
    "for band in bands:\n",
    "    for extension in ['.tif', '.vrt']:\n",
    "        os.remove(band + extension)\n",
    "        \n",
    "os.remove('temp.tif')"
   ]
  },
  {
   "cell_type": "markdown",
   "metadata": {},
   "source": [
    "### Metadata about results\n"
   ]
  },
  {
   "cell_type": "code",
   "execution_count": 52,
   "metadata": {},
   "outputs": [],
   "source": [
    "def get_image_wkt(product):\n",
    "    \n",
    "    src = gdal.Open(product)\n",
    "    ulx, xres, xskew, uly, yskew, yres  = src.GetGeoTransform()\n",
    "\n",
    "    max_x = ulx + (src.RasterXSize * xres)\n",
    "    min_y = uly + (src.RasterYSize * yres)\n",
    "    min_x = ulx \n",
    "    max_y = uly\n",
    "\n",
    "    source = osr.SpatialReference()\n",
    "    source.ImportFromWkt(src.GetProjection())\n",
    "\n",
    "    target = osr.SpatialReference()\n",
    "    target.ImportFromEPSG(4326)\n",
    "\n",
    "    transform = osr.CoordinateTransformation(source, target)\n",
    "\n",
    "    result_wkt = box(transform.TransformPoint(min_x, min_y)[0],\n",
    "                     transform.TransformPoint(min_x, min_y)[1],\n",
    "                     transform.TransformPoint(max_x, max_y)[0],\n",
    "                     transform.TransformPoint(max_x, max_y)[1]).wkt\n",
    "    \n",
    "    return result_wkt"
   ]
  },
  {
   "cell_type": "code",
   "execution_count": 53,
   "metadata": {},
   "outputs": [],
   "source": [
    "for properties_file in ['result', 'stage-in', output_name]:\n",
    "\n",
    "    date_format = '%Y-%m-%dT%H:%m:%SZ'\n",
    "    \n",
    "    if properties_file == 'result':\n",
    "        \n",
    "        title = 'Reproducibility notebook used for generating {0}'.format(output_name)\n",
    "   \n",
    "    elif properties_file == 'stage-in':\n",
    "\n",
    "        title = 'Reproducibility stage-in notebook for Sentinel-2 data for generating {0}'.format(output_name)\n",
    "    \n",
    "    else: \n",
    "      \n",
    "        title = 'Mineral alteration index from {0} to {1}'.format(output_startdate.strftime(date_format),\n",
    "                                                                  output_stopdate.strftime(date_format))\n",
    "        \n",
    "    with open(properties_file + '.properties', 'wb') as file:\n",
    "        file.write('title={0}\\n'.format(title))\n",
    "        file.write('date={0}/{1}\\n'.format(output_startdate.strftime(date_format),\n",
    "                                           output_stopdate.strftime(date_format)))\n",
    "        file.write('geometry={0}'.format(get_image_wkt(output_name + '.tif')))\n"
   ]
  },
  {
   "cell_type": "markdown",
   "metadata": {},
   "source": [
    "### License\n",
    "\n",
    "\n"
   ]
  },
  {
   "cell_type": "markdown",
   "metadata": {
    "slideshow": {
     "slide_type": "subslide"
    }
   },
   "source": [
    "This work is licenced under a [Attribution-ShareAlike 4.0 International License (CC BY-SA 4.0)](http://creativecommons.org/licenses/by-sa/4.0/) \n",
    "\n",
    "YOU ARE FREE TO:\n",
    "\n",
    "* Share - copy and redistribute the material in any medium or format.\n",
    "* Adapt - remix, transform, and built upon the material for any purpose, even commercially.\n",
    "\n",
    "UNDER THE FOLLOWING TERMS:\n",
    "\n",
    "* Attribution - You must give appropriate credit, provide a link to the license, and indicate if changes were made. You may do so in any reasonable manner, but not in any way that suggests the licensor endorses you or your use.\n",
    "* ShareAlike - If you remix, transform, or build upon the material, you must distribute your contributions under the same license as the original."
   ]
  }
 ],
 "metadata": {
  "kernelspec": {
   "display_name": "Python 2",
   "language": "python",
   "name": "python2"
  },
  "language_info": {
   "codemirror_mode": {
    "name": "ipython",
    "version": 2
   },
   "file_extension": ".py",
   "mimetype": "text/x-python",
   "name": "python",
   "nbconvert_exporter": "python",
   "pygments_lexer": "ipython2",
   "version": "2.7.12"
  }
 },
 "nbformat": 4,
 "nbformat_minor": 2
}
