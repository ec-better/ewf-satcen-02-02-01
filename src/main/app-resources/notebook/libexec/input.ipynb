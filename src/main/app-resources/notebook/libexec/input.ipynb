{
 "cells": [
  {
   "cell_type": "markdown",
   "metadata": {},
   "source": [
    "## Sentinel-2 Mineral RGB Composite"
   ]
  },
  {
   "cell_type": "markdown",
   "metadata": {},
   "source": [
    "### <a name=\"service\">Service definition"
   ]
  },
  {
   "cell_type": "code",
   "execution_count": 1,
   "metadata": {
    "collapsed": true
   },
   "outputs": [],
   "source": [
    "service = dict([('title', 'Sentinel-2 Mineral RGB Composite'),\n",
    "                ('abstract', 'Sentinel-2 Mineral RGB Composite'),\n",
    "                ('id', 'ewf-s2-mineral-composite')])"
   ]
  },
  {
   "cell_type": "markdown",
   "metadata": {},
   "source": [
    "### Service parameters"
   ]
  },
  {
   "cell_type": "markdown",
   "metadata": {},
   "source": [
    "### <a name=\"runtime\">Runtime parameter definition"
   ]
  },
  {
   "cell_type": "markdown",
   "metadata": {},
   "source": [
    "**Input identifiers**\n",
    "\n",
    "This is the Sentinel-1 stack of products' identifiers"
   ]
  },
  {
   "cell_type": "code",
   "execution_count": 2,
   "metadata": {
    "collapsed": true
   },
   "outputs": [],
   "source": [
    "input_identifiers = ['A8204ADAC1D07DE1AAFCC0C87CFDB6CB1DDAD310',\n",
    "                     '57D0F4788C1C7DB2898D9F1C256F2D391B184453'] \n"
   ]
  },
  {
   "cell_type": "code",
   "execution_count": 3,
   "metadata": {},
   "outputs": [],
   "source": [
    "aoi = dict([('id', 'aoi'),\n",
    "            ('title', 'Area of interest (bbox)'),\n",
    "            ('abstract', 'Area of interest defined as a bounding box'),\n",
    "            ('value', '-70.5659,-13.0922,-69.1411,-12.4567')])"
   ]
  },
  {
   "cell_type": "markdown",
   "metadata": {},
   "source": [
    "**Input references**\n",
    "\n",
    "This is the Sentinel-1 stack catalogue references"
   ]
  },
  {
   "cell_type": "code",
   "execution_count": 4,
   "metadata": {
    "collapsed": false,
    "slideshow": {
     "slide_type": "subslide"
    }
   },
   "outputs": [],
   "source": [
    "input_references = ['https://catalog.terradue.com/sen2cor/search?format=atom&uid=A8204ADAC1D07DE1AAFCC0C87CFDB6CB1DDAD310',\n",
    "                     'https://catalog.terradue.com/sen2cor/search?format=atom&uid=57D0F4788C1C7DB2898D9F1C256F2D391B184453'] "
   ]
  },
  {
   "cell_type": "markdown",
   "metadata": {
    "slideshow": {
     "slide_type": "slide"
    }
   },
   "source": [
    "**Data path**\n",
    "\n",
    "This path defines where the data is staged-in. "
   ]
  },
  {
   "cell_type": "code",
   "execution_count": 5,
   "metadata": {
    "collapsed": true
   },
   "outputs": [],
   "source": [
    "data_path = '/workspace/data'"
   ]
  },
  {
   "cell_type": "code",
   "execution_count": 6,
   "metadata": {},
   "outputs": [],
   "source": [
    "username = dict([('id', '_T2Username'),\n",
    "              ('title', 'Ellip username'),\n",
    "              ('abstract', 'Ellip username'),\n",
    "              ('value', '')])"
   ]
  },
  {
   "cell_type": "code",
   "execution_count": 7,
   "metadata": {},
   "outputs": [],
   "source": [
    "api_key = dict([('id', '_T2ApiKey'),\n",
    "              ('title', 'Ellip API key for data pipeline'),\n",
    "              ('abstract', 'Ellip API key for data pipeline'),\n",
    "              ('value', '')])"
   ]
  },
  {
   "cell_type": "markdown",
   "metadata": {},
   "source": [
    "### <a name=\"workflow\">Workflow"
   ]
  },
  {
   "cell_type": "code",
   "execution_count": 8,
   "metadata": {},
   "outputs": [],
   "source": [
    "import cioppy\n",
    "import geopandas as gpd\n",
    "from shapely.wkt import loads\n",
    "import pandas as pd\n",
    "import os\n",
    "import osr\n",
    "import sys\n",
    "sys.path.append('/application/notebook/libexec/') \n",
    "sys.path.append(os.getcwd())\n",
    "\n",
    "from helpers import *\n",
    "\n",
    "sys.path.append('/opt/OTB/lib/python')\n",
    "sys.path.append('/opt/OTB/lib/libfftw3.so.3')\n",
    "os.environ['OTB_APPLICATION_PATH'] = '/opt/OTB/lib/otb/applications'\n",
    "os.environ['LD_LIBRARY_PATH'] = '/opt/OTB/lib'\n",
    "os.environ['ITK_AUTOLOAD_PATH'] = '/opt/OTB/lib/otb/applications'\n",
    "\n",
    "import otbApplication\n",
    "import requests\n",
    "%load_ext autoreload\n",
    "%autoreload 2"
   ]
  },
  {
   "cell_type": "code",
   "execution_count": 9,
   "metadata": {},
   "outputs": [],
   "source": [
    "ciop = cioppy.Cioppy()"
   ]
  },
  {
   "cell_type": "code",
   "execution_count": 10,
   "metadata": {},
   "outputs": [],
   "source": [
    "creds = '{0}:{1}'.format(username['value'], api_key['value'])"
   ]
  },
  {
   "cell_type": "code",
   "execution_count": 11,
   "metadata": {},
   "outputs": [
    {
     "name": "stdout",
     "output_type": "stream",
     "text": [
      "https://catalog.terradue.com/sen2cor/search?format=atom&uid=A8204ADAC1D07DE1AAFCC0C87CFDB6CB1DDAD310\n"
     ]
    }
   ],
   "source": [
    "for index, reference in enumerate(input_references):\n",
    "    print reference"
   ]
  },
  {
   "cell_type": "code",
   "execution_count": 12,
   "metadata": {},
   "outputs": [],
   "source": [
    "                                        \n",
    "                                           \n",
    "temp_searches = []\n",
    "\n",
    "for index, reference in enumerate(input_references):\n",
    "\n",
    "    temporary_item =ciop.search(end_point=reference,\n",
    "                                      params=[],\n",
    "                                       output_fields='self,track,enclosure,identifier,wkt,startdate,enddate,platform,cc', \n",
    "                                       model='EOP',creds=creds)\n",
    "\n",
    "    \n",
    "        \n",
    "    search_temp = gpd.GeoDataFrame(temporary_item)\n",
    "    if 'https://catalog.terradue.com/sentinel2/' in temporary_item[0]['self'] :\n",
    "        original_identifier= temporary_item[0]['identifier']   \n",
    "        \n",
    "    else: \n",
    "        original_identifier = get_original_identifier(temporary_item[0]['self'],username['value'], api_key['value'])\n",
    "    search_temp['local_path'] = os.path.join(data_path, original_identifier)\n",
    "    search_temp['original_identifier'] = original_identifier\n",
    "    temp_searches.append(search_temp)\n",
    "    \n",
    "search = gpd.GeoDataFrame(pd.concat(temp_searches, ignore_index=True)) \n",
    "\n",
    "search['geometry'] = search['wkt'].apply(loads)\n",
    "search['cc'] = pd.to_numeric(search['cc'])\n",
    "search['startdate'] = pd.to_datetime(search['startdate'])\n",
    "search['enddate'] = pd.to_datetime(search['enddate'])                                           \n",
    "                                           \n",
    "                                           \n",
    "\n",
    "    \n",
    "    "
   ]
  },
  {
   "cell_type": "code",
   "execution_count": 13,
   "metadata": {},
   "outputs": [
    {
     "data": {
      "text/html": [
       "<div>\n",
       "<style scoped>\n",
       "    .dataframe tbody tr th:only-of-type {\n",
       "        vertical-align: middle;\n",
       "    }\n",
       "\n",
       "    .dataframe tbody tr th {\n",
       "        vertical-align: top;\n",
       "    }\n",
       "\n",
       "    .dataframe thead th {\n",
       "        text-align: right;\n",
       "    }\n",
       "</style>\n",
       "<table border=\"1\" class=\"dataframe\">\n",
       "  <thead>\n",
       "    <tr style=\"text-align: right;\">\n",
       "      <th></th>\n",
       "      <th>cc</th>\n",
       "      <th>enclosure</th>\n",
       "      <th>enddate</th>\n",
       "      <th>identifier</th>\n",
       "      <th>platform</th>\n",
       "      <th>self</th>\n",
       "      <th>startdate</th>\n",
       "      <th>track</th>\n",
       "      <th>wkt</th>\n",
       "      <th>local_path</th>\n",
       "      <th>original_identifier</th>\n",
       "      <th>geometry</th>\n",
       "    </tr>\n",
       "  </thead>\n",
       "  <tbody>\n",
       "    <tr>\n",
       "      <th>0</th>\n",
       "      <td>0.099581</td>\n",
       "      <td>https://store.terradue.com/sen2cor/_results/wo...</td>\n",
       "      <td>2018-08-13 14:57:19.024</td>\n",
       "      <td>A8204ADAC1D07DE1AAFCC0C87CFDB6CB1DDAD310</td>\n",
       "      <td>S2B</td>\n",
       "      <td>https://catalog.terradue.com/sen2cor/search?fo...</td>\n",
       "      <td>2018-08-13 14:57:19.024</td>\n",
       "      <td>039</td>\n",
       "      <td>POLYGON((-69.42706 -11.7587371884498,-69.43216...</td>\n",
       "      <td>/workspace/data/S2B_MSIL2A_20180813T145719_N02...</td>\n",
       "      <td>S2B_MSIL2A_20180813T145719_N0206_R039_T19LDG_2...</td>\n",
       "      <td>POLYGON ((-69.42706 -11.7587371884498, -69.432...</td>\n",
       "    </tr>\n",
       "  </tbody>\n",
       "</table>\n",
       "</div>"
      ],
      "text/plain": [
       "         cc                                          enclosure  \\\n",
       "0  0.099581  https://store.terradue.com/sen2cor/_results/wo...   \n",
       "\n",
       "                  enddate                                identifier platform  \\\n",
       "0 2018-08-13 14:57:19.024  A8204ADAC1D07DE1AAFCC0C87CFDB6CB1DDAD310      S2B   \n",
       "\n",
       "                                                self               startdate  \\\n",
       "0  https://catalog.terradue.com/sen2cor/search?fo... 2018-08-13 14:57:19.024   \n",
       "\n",
       "  track                                                wkt  \\\n",
       "0   039  POLYGON((-69.42706 -11.7587371884498,-69.43216...   \n",
       "\n",
       "                                          local_path  \\\n",
       "0  /workspace/data/S2B_MSIL2A_20180813T145719_N02...   \n",
       "\n",
       "                                 original_identifier  \\\n",
       "0  S2B_MSIL2A_20180813T145719_N0206_R039_T19LDG_2...   \n",
       "\n",
       "                                            geometry  \n",
       "0  POLYGON ((-69.42706 -11.7587371884498, -69.432...  "
      ]
     },
     "execution_count": 13,
     "metadata": {},
     "output_type": "execute_result"
    }
   ],
   "source": [
    "search"
   ]
  },
  {
   "cell_type": "code",
   "execution_count": null,
   "metadata": {},
   "outputs": [],
   "source": [
    "search = search.merge(search.apply(lambda row: analyse(row ), axis=1),\n",
    "                                    left_index=True,\n",
    "                                  right_index=True)"
   ]
  },
  {
   "cell_type": "code",
   "execution_count": null,
   "metadata": {},
   "outputs": [],
   "source": [
    "search"
   ]
  },
  {
   "cell_type": "code",
   "execution_count": null,
   "metadata": {},
   "outputs": [],
   "source": [
    "\n",
    "\n",
    "aoi_wkt = box(*[float(i) for i in aoi['value'].split(',')]).wkt\n",
    "\n",
    "min_lon, min_lat,  max_lon, max_lat = [float(i) for i in aoi['value'].split(',')]\n"
   ]
  },
  {
   "cell_type": "code",
   "execution_count": null,
   "metadata": {},
   "outputs": [],
   "source": [
    "bands = ['B02', 'B04', 'B11', 'B12', 'SCL']"
   ]
  },
  {
   "cell_type": "code",
   "execution_count": null,
   "metadata": {},
   "outputs": [],
   "source": [
    "for index, band in enumerate(bands):\n",
    "    \n",
    "    vrt_bands = []\n",
    "    \n",
    "    for j, row in search.iterrows():\n",
    "        \n",
    "        vrt_bands.append(get_band_path(row, band))\n",
    "    \n",
    "    vrt = '{0}.vrt'.format(band)\n",
    "    ds = gdal.BuildVRT(vrt,\n",
    "                       vrt_bands,\n",
    "                       #srcNodata=0,\n",
    "                       xRes=10, \n",
    "                       yRes=10)\n",
    "\n",
    "    ds.FlushCache()\n",
    "    \n",
    "    \n",
    "    gdal.Translate(band + '.tif', \n",
    "                   ds, \n",
    "                   outputType=gdal.GDT_Float32, \n",
    "                   projWin=[min_lon, max_lat, max_lon, min_lat],\n",
    "                   projWinSRS='EPSG:4326')"
   ]
  },
  {
   "cell_type": "code",
   "execution_count": null,
   "metadata": {},
   "outputs": [],
   "source": [
    "r_channel = 'im4b1 !=0 ? im3b1 / im4b1 : 0'\n",
    "g_channel = 'im1b1 !=0 ? im2b1 / im1b1 : 0'\n",
    "b_channel = 'im3b1 !=0 ? im2b1 / im3b1 : 0'\n",
    "alpha_channel = '{0} == 0 || {0} == 1 || {0} == 3 || {0} == 8 || {0} == 9 ? 0 : 1'.format('im5b1') "
   ]
  },
  {
   "cell_type": "code",
   "execution_count": null,
   "metadata": {},
   "outputs": [],
   "source": [
    "band_expressions = [r_channel, \n",
    "                    g_channel, \n",
    "                    b_channel,\n",
    "                    alpha_channel]"
   ]
  },
  {
   "cell_type": "code",
   "execution_count": null,
   "metadata": {},
   "outputs": [],
   "source": [
    "BandMathX = otbApplication.Registry.CreateApplication(\"BandMathX\")\n",
    "\n",
    "BandMathX.SetParameterStringList('il', [b + '.tif' for b in bands])\n",
    "\n",
    "BandMathX.SetParameterString('out', 'temp.tif')\n",
    "\n",
    "BandMathX.SetParameterString('exp', ';'.join(band_expressions))\n",
    "\n",
    "BandMathX.ExecuteAndWriteOutput()"
   ]
  },
  {
   "cell_type": "code",
   "execution_count": null,
   "metadata": {},
   "outputs": [],
   "source": [
    "output_startdate = min(search['startdate'])\n",
    "output_stopdate = max(search['enddate'])"
   ]
  },
  {
   "cell_type": "code",
   "execution_count": null,
   "metadata": {},
   "outputs": [],
   "source": [
    "date_format = '%Y%m%dT%H%m%S'\n",
    "\n",
    "output_name = 'MINERAL-COMPOSITE-{0}-{1}'.format(output_startdate.strftime(date_format), \n",
    "                                                 output_stopdate.strftime(date_format))"
   ]
  },
  {
   "cell_type": "code",
   "execution_count": null,
   "metadata": {},
   "outputs": [],
   "source": [
    "Convert = otbApplication.Registry.CreateApplication('Convert')\n",
    "\n",
    "\n",
    "Convert.SetParameterString('in', 'temp.tif')\n",
    "\n",
    "Convert.SetParameterString('out', 'temp_{}.tif'.format(output_name))\n",
    "\n",
    "Convert.SetParameterString('type', 'linear')\n",
    "\n",
    "Convert.SetParameterString('channels', 'all')\n",
    "\n",
    "Convert.ExecuteAndWriteOutput()"
   ]
  },
  {
   "cell_type": "code",
   "execution_count": null,
   "metadata": {},
   "outputs": [],
   "source": [
    "cog('temp_{}.tif'.format(output_name),\n",
    "    '{}.tif'.format(output_name))"
   ]
  },
  {
   "cell_type": "markdown",
   "metadata": {},
   "source": [
    "### Clean-up"
   ]
  },
  {
   "cell_type": "code",
   "execution_count": null,
   "metadata": {},
   "outputs": [],
   "source": [
    "for band in bands:\n",
    "    for extension in ['.tif', '.vrt']:\n",
    "        os.remove(band + extension)\n",
    "        \n",
    "os.remove('temp.tif')"
   ]
  },
  {
   "cell_type": "markdown",
   "metadata": {},
   "source": [
    " ### Create RGB (4bands) with Mask of changes (0-255 values)\n"
   ]
  },
  {
   "cell_type": "code",
   "execution_count": null,
   "metadata": {},
   "outputs": [],
   "source": [
    "from helpers import *"
   ]
  },
  {
   "cell_type": "code",
   "execution_count": null,
   "metadata": {},
   "outputs": [],
   "source": [
    "out_rgb = '{}-rgb'.format(output_name)\n",
    "\n",
    "create_rgb('{}.tif'.format(output_name), '{}.tif'.format(out_rgb))"
   ]
  },
  {
   "cell_type": "markdown",
   "metadata": {},
   "source": [
    "### Metadata about results\n"
   ]
  },
  {
   "cell_type": "code",
   "execution_count": null,
   "metadata": {},
   "outputs": [],
   "source": [
    "for properties_file in ['result', 'stage-in', output_name, out_rgb]:\n",
    "\n",
    "    date_format = '%Y-%m-%dT%H:%m:%SZ'\n",
    "    \n",
    "    if properties_file == 'result':\n",
    "        \n",
    "        title = 'Reproducibility notebook used for generating {0}'.format(output_name)\n",
    "   \n",
    "    elif properties_file == 'stage-in':\n",
    "\n",
    "        title = 'Reproducibility stage-in notebook for Sentinel-2 data for generating {0}'.format(output_name)\n",
    "    \n",
    "    \n",
    "        \n",
    "    elif properties_file == out_rgb:\n",
    "        \n",
    "        title = 'RGB composite for {0} to {1}'.format(output_startdate.strftime(date_format),\n",
    "                                                                  output_stopdate.strftime(date_format))\n",
    "    \n",
    "    else: \n",
    "      \n",
    "        title = 'Mineral alteration index from {0} to {1}'.format(output_startdate.strftime(date_format),\n",
    "                                                                  output_stopdate.strftime(date_format))\n",
    "        \n",
    "    with open(properties_file + '.properties', 'wb') as file:\n",
    "        file.write('title={0}\\n'.format(title))\n",
    "        file.write('date={0}/{1}\\n'.format(output_startdate.strftime(date_format),\n",
    "                                           output_stopdate.strftime(date_format)))\n",
    "        file.write('geometry={0}'.format(get_image_wkt(output_name + '.tif')))\n"
   ]
  },
  {
   "cell_type": "markdown",
   "metadata": {},
   "source": [
    "### License\n",
    "\n",
    "\n"
   ]
  },
  {
   "cell_type": "markdown",
   "metadata": {
    "slideshow": {
     "slide_type": "subslide"
    }
   },
   "source": [
    "This work is licenced under a [Attribution-ShareAlike 4.0 International License (CC BY-SA 4.0)](http://creativecommons.org/licenses/by-sa/4.0/) \n",
    "\n",
    "YOU ARE FREE TO:\n",
    "\n",
    "* Share - copy and redistribute the material in any medium or format.\n",
    "* Adapt - remix, transform, and built upon the material for any purpose, even commercially.\n",
    "\n",
    "UNDER THE FOLLOWING TERMS:\n",
    "\n",
    "* Attribution - You must give appropriate credit, provide a link to the license, and indicate if changes were made. You may do so in any reasonable manner, but not in any way that suggests the licensor endorses you or your use.\n",
    "* ShareAlike - If you remix, transform, or build upon the material, you must distribute your contributions under the same license as the original."
   ]
  }
 ],
 "metadata": {
  "kernelspec": {
   "display_name": "Python 2",
   "language": "python",
   "name": "python2"
  },
  "language_info": {
   "codemirror_mode": {
    "name": "ipython",
    "version": 2
   },
   "file_extension": ".py",
   "mimetype": "text/x-python",
   "name": "python",
   "nbconvert_exporter": "python",
   "pygments_lexer": "ipython2",
   "version": "2.7.13"
  }
 },
 "nbformat": 4,
 "nbformat_minor": 2
}
